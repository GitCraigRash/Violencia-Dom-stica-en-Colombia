{
  "nbformat": 4,
  "nbformat_minor": 0,
  "metadata": {
    "colab": {
      "provenance": []
    },
    "kernelspec": {
      "name": "python3",
      "display_name": "Python 3"
    },
    "language_info": {
      "name": "python"
    }
  },
  "cells": [
    {
      "cell_type": "code",
      "execution_count": null,
      "metadata": {
        "colab": {
          "base_uri": "https://localhost:8080/"
        },
        "id": "d61ylvaCukjV",
        "outputId": "cbfbd81a-14a3-468f-85b2-ab007ed69ee9"
      },
      "outputs": [
        {
          "output_type": "stream",
          "name": "stderr",
          "text": [
            "<ipython-input-3-ef5baa7f6536>:10: DtypeWarning: Columns (3) have mixed types. Specify dtype option on import or set low_memory=False.\n",
            "  data=pd.read_csv(csv)\n"
          ]
        }
      ],
      "source": [
        "import pandas as pd\n",
        "import numpy as np\n",
        "from sklearn.model_selection import train_test_split\n",
        "from sklearn.pipeline import Pipeline\n",
        "from datetime import datetime\n",
        "\n",
        "csv=\"/content/raw_data.csv\"\n",
        "def wrangle(csv):\n",
        "  # import data\n",
        "  data=pd.read_csv(csv)\n",
        "  df=pd.DataFrame(data)\n",
        "  #change 'fecha_hecho' to datetime\n",
        "  format_str = '%d/%m/%Y'\n",
        "  df[\"fecha_hecho\"]= pd.to_datetime(df[\"fecha_hecho\"],format = '%d/%m/%Y')\n",
        "  #drop rows with null values\n",
        "  df.dropna(inplace=True)\n",
        "  #df.drop(\"reference_id\",axis=1,inplace=True)\n",
        "  return df\n",
        "df=wrangle(csv)"
      ]
    },
    {
      "cell_type": "code",
      "source": [
        "df.isnull().sum(),len(df)"
      ],
      "metadata": {
        "colab": {
          "base_uri": "https://localhost:8080/"
        },
        "id": "LsRaieu-KD9K",
        "outputId": "3744f3f1-9807-4872-89d2-e3ee0342d098"
      },
      "execution_count": null,
      "outputs": [
        {
          "output_type": "execute_result",
          "data": {
            "text/plain": [
              "(Unnamed: 0      0\n",
              " departamento    0\n",
              " municipio       0\n",
              " codigo_dane     0\n",
              " armas_medios    0\n",
              " fecha_hecho     0\n",
              " genero          0\n",
              " grupo_etario    0\n",
              " cantidad        0\n",
              " dtype: int64,\n",
              " 574110)"
            ]
          },
          "metadata": {},
          "execution_count": 18
        }
      ]
    },
    {
      "cell_type": "code",
      "source": [
        "df.info()"
      ],
      "metadata": {
        "colab": {
          "base_uri": "https://localhost:8080/"
        },
        "id": "pxUaeKztJjzk",
        "outputId": "2df096e1-d371-42ef-e60a-f73612acbf10"
      },
      "execution_count": null,
      "outputs": [
        {
          "output_type": "stream",
          "name": "stdout",
          "text": [
            "<class 'pandas.core.frame.DataFrame'>\n",
            "Int64Index: 574110 entries, 0 to 575720\n",
            "Data columns (total 9 columns):\n",
            " #   Column        Non-Null Count   Dtype         \n",
            "---  ------        --------------   -----         \n",
            " 0   Unnamed: 0    574110 non-null  int64         \n",
            " 1   departamento  574110 non-null  object        \n",
            " 2   municipio     574110 non-null  object        \n",
            " 3   codigo_dane   574110 non-null  object        \n",
            " 4   armas_medios  574110 non-null  object        \n",
            " 5   fecha_hecho   574110 non-null  datetime64[ns]\n",
            " 6   genero        574110 non-null  object        \n",
            " 7   grupo_etario  574110 non-null  object        \n",
            " 8   cantidad      574110 non-null  int64         \n",
            "dtypes: datetime64[ns](1), int64(2), object(6)\n",
            "memory usage: 43.8+ MB\n"
          ]
        }
      ]
    },
    {
      "cell_type": "code",
      "source": [
        "df['departamento'].value_counts()"
      ],
      "metadata": {
        "colab": {
          "base_uri": "https://localhost:8080/"
        },
        "id": "lke3WfCGvoJV",
        "outputId": "46c17be2-bc4d-4a83-8430-6570e925c67f"
      },
      "execution_count": null,
      "outputs": [
        {
          "output_type": "execute_result",
          "data": {
            "text/plain": [
              "CUNDINAMARCA          103971\n",
              "ANTIOQUIA              70548\n",
              "VALLE                  53551\n",
              "SANTANDER              45230\n",
              "BOYACÁ                 32118\n",
              "ATLÁNTICO              21186\n",
              "TOLIMA                 21031\n",
              "HUILA                  19959\n",
              "META                   19804\n",
              "BOLÍVAR                19094\n",
              "NARIÑO                 17632\n",
              "NORTE DE SANTANDER     17566\n",
              "CAUCA                  17425\n",
              "RISARALDA              16785\n",
              "CÓRDOBA                13128\n",
              "MAGDALENA              11800\n",
              "SUCRE                  11549\n",
              "CALDAS                 11047\n",
              "CESAR                   9778\n",
              "CASANARE                7519\n",
              "QUINDÍO                 6001\n",
              "CAQUETÁ                 5706\n",
              "GUAJIRA                 5095\n",
              "ARAUCA                  4309\n",
              "PUTUMAYO                3874\n",
              "CHOCÓ                   2570\n",
              "AMAZONAS                1499\n",
              "SAN ANDRÉS              1454\n",
              "GUAVIARE                1214\n",
              "GUAINÍA                  633\n",
              "VAUPÉS                   522\n",
              "VICHADA                  506\n",
              "NO REPORTA                 6\n",
              "Name: departamento, dtype: int64"
            ]
          },
          "metadata": {},
          "execution_count": 19
        }
      ]
    },
    {
      "cell_type": "code",
      "source": [
        "df['municipio'].value_counts()"
      ],
      "metadata": {
        "id": "63EOOz7bu-9a",
        "colab": {
          "base_uri": "https://localhost:8080/"
        },
        "outputId": "b4912e1d-d73c-4c06-90f7-46861b456d94"
      },
      "execution_count": null,
      "outputs": [
        {
          "output_type": "execute_result",
          "data": {
            "text/plain": [
              "BOGOTÁ D.C. (CT)         58146\n",
              "MEDELLÍN (CT)            25063\n",
              "CALI (CT)                21950\n",
              "BUCARAMANGA (CT)         11980\n",
              "VILLAVICENCIO (CT)       11432\n",
              "                         ...  \n",
              "CEPITÁ                       3\n",
              "SÁCAMA                       3\n",
              "BOJAYÁ                       2\n",
              "ZAPAYÁN                      2\n",
              "SAN JACINTO DEL CAUCA        2\n",
              "Name: municipio, Length: 1023, dtype: int64"
            ]
          },
          "metadata": {},
          "execution_count": 20
        }
      ]
    },
    {
      "cell_type": "code",
      "source": [
        "df[\"codigo_dane\"].value_counts()"
      ],
      "metadata": {
        "colab": {
          "base_uri": "https://localhost:8080/"
        },
        "id": "cXjo7I1rLiyg",
        "outputId": "e992e965-f3d5-4b46-dca8-3a5594f2d85d"
      },
      "execution_count": null,
      "outputs": [
        {
          "output_type": "execute_result",
          "data": {
            "text/plain": [
              "11001000    32787\n",
              "11001000    25359\n",
              "5001000     15408\n",
              "76001000    14499\n",
              "5001000      9655\n",
              "            ...  \n",
              "13600000        1\n",
              "50686000        1\n",
              "47605000        1\n",
              "27099000        1\n",
              "47960000        1\n",
              "Name: codigo_dane, Length: 2196, dtype: int64"
            ]
          },
          "metadata": {},
          "execution_count": 21
        }
      ]
    },
    {
      "cell_type": "code",
      "source": [
        "df[\"cantidad\"].value_counts()"
      ],
      "metadata": {
        "colab": {
          "base_uri": "https://localhost:8080/"
        },
        "id": "vlx9kytRLqcY",
        "outputId": "b391b56d-3960-4822-eb0f-059bc3106b0a"
      },
      "execution_count": null,
      "outputs": [
        {
          "output_type": "execute_result",
          "data": {
            "text/plain": [
              "1      448893\n",
              "2       63673\n",
              "3       23141\n",
              "4       11464\n",
              "5        6532\n",
              "        ...  \n",
              "143         1\n",
              "106         1\n",
              "130         1\n",
              "105         1\n",
              "115         1\n",
              "Name: cantidad, Length: 123, dtype: int64"
            ]
          },
          "metadata": {},
          "execution_count": 22
        }
      ]
    },
    {
      "cell_type": "code",
      "source": [
        "df[\"genero\"].value_counts()"
      ],
      "metadata": {
        "colab": {
          "base_uri": "https://localhost:8080/"
        },
        "id": "SuOexdhRMMH7",
        "outputId": "81c3d03e-90b1-4843-9187-cb374f616d7d"
      },
      "execution_count": null,
      "outputs": [
        {
          "output_type": "execute_result",
          "data": {
            "text/plain": [
              "FEMENINO        436930\n",
              "MASCULINO       136654\n",
              "NO REPORTA         294\n",
              "NO REPORTADO       232\n",
              "Name: genero, dtype: int64"
            ]
          },
          "metadata": {},
          "execution_count": 23
        }
      ]
    },
    {
      "cell_type": "code",
      "source": [
        "df[\"grupo_etario\"].value_counts()"
      ],
      "metadata": {
        "colab": {
          "base_uri": "https://localhost:8080/"
        },
        "id": "A34P-JEuMVk1",
        "outputId": "5df475c5-5f0b-4cc6-bef8-bed3ce896fdf"
      },
      "execution_count": null,
      "outputs": [
        {
          "output_type": "execute_result",
          "data": {
            "text/plain": [
              "ADULTOS         503613\n",
              "ADOLESCENTES     35551\n",
              "MENORES          34439\n",
              "NO REPORTA         274\n",
              "NO REPORTADO       233\n",
              "Name: grupo_etario, dtype: int64"
            ]
          },
          "metadata": {},
          "execution_count": 24
        }
      ]
    },
    {
      "cell_type": "code",
      "source": [
        "len(df[\"fecha_hecho\"].loc[(df['fecha_hecho']>='01/01/2021') & (df['fecha_hecho']<='01/01/2022')])"
      ],
      "metadata": {
        "colab": {
          "base_uri": "https://localhost:8080/"
        },
        "id": "EebGnsVxK4Cp",
        "outputId": "bd86901c-dbc5-429c-d094-c33757aede01"
      },
      "execution_count": null,
      "outputs": [
        {
          "output_type": "execute_result",
          "data": {
            "text/plain": [
              "56295"
            ]
          },
          "metadata": {},
          "execution_count": 34
        }
      ]
    },
    {
      "cell_type": "code",
      "source": [
        "from datetime import datetime, timedelta\n",
        "\n",
        "years=df['fecha_hecho'].max().year - df['fecha_hecho'].min().year\n",
        "results=[]\n",
        "for i in range(years):\n",
        "  s=\"\"\n",
        "  results.append([\n",
        "      i+2010,len(\n",
        "          df[\"fecha_hecho\"].loc[\n",
        "          (df['fecha_hecho']>=s.join(['01/01/',str(2010+i)]))\n",
        "      & (df['fecha_hecho']<=s.join(['01/01/',str(2011+i)]))\n",
        "      ]\n",
        "      )\n",
        "      ])\n",
        "\n",
        "pd.DataFrame(results,columns=[\"año\",\"fecha_hecho\"])"
      ],
      "metadata": {
        "colab": {
          "base_uri": "https://localhost:8080/",
          "height": 457
        },
        "id": "vBLonSYke66B",
        "outputId": "a6890056-22f9-4946-8b60-89de973680fb"
      },
      "execution_count": null,
      "outputs": [
        {
          "output_type": "execute_result",
          "data": {
            "text/plain": [
              "    anyo  fecha_hecho\n",
              "0   2010        15378\n",
              "1   2011        17318\n",
              "2   2012        20790\n",
              "3   2013        22173\n",
              "4   2014        30226\n",
              "5   2015        45479\n",
              "6   2016        50333\n",
              "7   2017        50900\n",
              "8   2018        48361\n",
              "9   2019        53781\n",
              "10  2020       101282\n",
              "11  2021        56295\n",
              "12  2022        57216"
            ],
            "text/html": [
              "\n",
              "  <div id=\"df-d4661450-fcba-4b3b-813b-de9168ab1990\">\n",
              "    <div class=\"colab-df-container\">\n",
              "      <div>\n",
              "<style scoped>\n",
              "    .dataframe tbody tr th:only-of-type {\n",
              "        vertical-align: middle;\n",
              "    }\n",
              "\n",
              "    .dataframe tbody tr th {\n",
              "        vertical-align: top;\n",
              "    }\n",
              "\n",
              "    .dataframe thead th {\n",
              "        text-align: right;\n",
              "    }\n",
              "</style>\n",
              "<table border=\"1\" class=\"dataframe\">\n",
              "  <thead>\n",
              "    <tr style=\"text-align: right;\">\n",
              "      <th></th>\n",
              "      <th>anyo</th>\n",
              "      <th>fecha_hecho</th>\n",
              "    </tr>\n",
              "  </thead>\n",
              "  <tbody>\n",
              "    <tr>\n",
              "      <th>0</th>\n",
              "      <td>2010</td>\n",
              "      <td>15378</td>\n",
              "    </tr>\n",
              "    <tr>\n",
              "      <th>1</th>\n",
              "      <td>2011</td>\n",
              "      <td>17318</td>\n",
              "    </tr>\n",
              "    <tr>\n",
              "      <th>2</th>\n",
              "      <td>2012</td>\n",
              "      <td>20790</td>\n",
              "    </tr>\n",
              "    <tr>\n",
              "      <th>3</th>\n",
              "      <td>2013</td>\n",
              "      <td>22173</td>\n",
              "    </tr>\n",
              "    <tr>\n",
              "      <th>4</th>\n",
              "      <td>2014</td>\n",
              "      <td>30226</td>\n",
              "    </tr>\n",
              "    <tr>\n",
              "      <th>5</th>\n",
              "      <td>2015</td>\n",
              "      <td>45479</td>\n",
              "    </tr>\n",
              "    <tr>\n",
              "      <th>6</th>\n",
              "      <td>2016</td>\n",
              "      <td>50333</td>\n",
              "    </tr>\n",
              "    <tr>\n",
              "      <th>7</th>\n",
              "      <td>2017</td>\n",
              "      <td>50900</td>\n",
              "    </tr>\n",
              "    <tr>\n",
              "      <th>8</th>\n",
              "      <td>2018</td>\n",
              "      <td>48361</td>\n",
              "    </tr>\n",
              "    <tr>\n",
              "      <th>9</th>\n",
              "      <td>2019</td>\n",
              "      <td>53781</td>\n",
              "    </tr>\n",
              "    <tr>\n",
              "      <th>10</th>\n",
              "      <td>2020</td>\n",
              "      <td>101282</td>\n",
              "    </tr>\n",
              "    <tr>\n",
              "      <th>11</th>\n",
              "      <td>2021</td>\n",
              "      <td>56295</td>\n",
              "    </tr>\n",
              "    <tr>\n",
              "      <th>12</th>\n",
              "      <td>2022</td>\n",
              "      <td>57216</td>\n",
              "    </tr>\n",
              "  </tbody>\n",
              "</table>\n",
              "</div>\n",
              "      <button class=\"colab-df-convert\" onclick=\"convertToInteractive('df-d4661450-fcba-4b3b-813b-de9168ab1990')\"\n",
              "              title=\"Convert this dataframe to an interactive table.\"\n",
              "              style=\"display:none;\">\n",
              "        \n",
              "  <svg xmlns=\"http://www.w3.org/2000/svg\" height=\"24px\"viewBox=\"0 0 24 24\"\n",
              "       width=\"24px\">\n",
              "    <path d=\"M0 0h24v24H0V0z\" fill=\"none\"/>\n",
              "    <path d=\"M18.56 5.44l.94 2.06.94-2.06 2.06-.94-2.06-.94-.94-2.06-.94 2.06-2.06.94zm-11 1L8.5 8.5l.94-2.06 2.06-.94-2.06-.94L8.5 2.5l-.94 2.06-2.06.94zm10 10l.94 2.06.94-2.06 2.06-.94-2.06-.94-.94-2.06-.94 2.06-2.06.94z\"/><path d=\"M17.41 7.96l-1.37-1.37c-.4-.4-.92-.59-1.43-.59-.52 0-1.04.2-1.43.59L10.3 9.45l-7.72 7.72c-.78.78-.78 2.05 0 2.83L4 21.41c.39.39.9.59 1.41.59.51 0 1.02-.2 1.41-.59l7.78-7.78 2.81-2.81c.8-.78.8-2.07 0-2.86zM5.41 20L4 18.59l7.72-7.72 1.47 1.35L5.41 20z\"/>\n",
              "  </svg>\n",
              "      </button>\n",
              "      \n",
              "  <style>\n",
              "    .colab-df-container {\n",
              "      display:flex;\n",
              "      flex-wrap:wrap;\n",
              "      gap: 12px;\n",
              "    }\n",
              "\n",
              "    .colab-df-convert {\n",
              "      background-color: #E8F0FE;\n",
              "      border: none;\n",
              "      border-radius: 50%;\n",
              "      cursor: pointer;\n",
              "      display: none;\n",
              "      fill: #1967D2;\n",
              "      height: 32px;\n",
              "      padding: 0 0 0 0;\n",
              "      width: 32px;\n",
              "    }\n",
              "\n",
              "    .colab-df-convert:hover {\n",
              "      background-color: #E2EBFA;\n",
              "      box-shadow: 0px 1px 2px rgba(60, 64, 67, 0.3), 0px 1px 3px 1px rgba(60, 64, 67, 0.15);\n",
              "      fill: #174EA6;\n",
              "    }\n",
              "\n",
              "    [theme=dark] .colab-df-convert {\n",
              "      background-color: #3B4455;\n",
              "      fill: #D2E3FC;\n",
              "    }\n",
              "\n",
              "    [theme=dark] .colab-df-convert:hover {\n",
              "      background-color: #434B5C;\n",
              "      box-shadow: 0px 1px 3px 1px rgba(0, 0, 0, 0.15);\n",
              "      filter: drop-shadow(0px 1px 2px rgba(0, 0, 0, 0.3));\n",
              "      fill: #FFFFFF;\n",
              "    }\n",
              "  </style>\n",
              "\n",
              "      <script>\n",
              "        const buttonEl =\n",
              "          document.querySelector('#df-d4661450-fcba-4b3b-813b-de9168ab1990 button.colab-df-convert');\n",
              "        buttonEl.style.display =\n",
              "          google.colab.kernel.accessAllowed ? 'block' : 'none';\n",
              "\n",
              "        async function convertToInteractive(key) {\n",
              "          const element = document.querySelector('#df-d4661450-fcba-4b3b-813b-de9168ab1990');\n",
              "          const dataTable =\n",
              "            await google.colab.kernel.invokeFunction('convertToInteractive',\n",
              "                                                     [key], {});\n",
              "          if (!dataTable) return;\n",
              "\n",
              "          const docLinkHtml = 'Like what you see? Visit the ' +\n",
              "            '<a target=\"_blank\" href=https://colab.research.google.com/notebooks/data_table.ipynb>data table notebook</a>'\n",
              "            + ' to learn more about interactive tables.';\n",
              "          element.innerHTML = '';\n",
              "          dataTable['output_type'] = 'display_data';\n",
              "          await google.colab.output.renderOutput(dataTable, element);\n",
              "          const docLink = document.createElement('div');\n",
              "          docLink.innerHTML = docLinkHtml;\n",
              "          element.appendChild(docLink);\n",
              "        }\n",
              "      </script>\n",
              "    </div>\n",
              "  </div>\n",
              "  "
            ]
          },
          "metadata": {},
          "execution_count": 44
        }
      ]
    }
  ]
}